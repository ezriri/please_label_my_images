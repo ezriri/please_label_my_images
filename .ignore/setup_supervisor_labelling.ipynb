{
 "cells": [
  {
   "cell_type": "markdown",
   "metadata": {
    "id": "QwJBBWp0ewaH"
   },
   "source": [
    "ngl I copied this from someone else (David Topping)\n",
    "<br>\n",
    "this has to be ran on google, then will mount the github repository to the persons local gdrive\n",
    "<br>\n",
    "not used this method, as requires lots of permissions from google. using binder instead"
   ]
  },
  {
   "cell_type": "code",
   "execution_count": 1,
   "metadata": {
    "colab": {
     "base_uri": "https://localhost:8080/"
    },
    "executionInfo": {
     "elapsed": 17077,
     "status": "ok",
     "timestamp": 1738775230137,
     "user": {
      "displayName": "Ezri",
      "userId": "18379267471280920430"
     },
     "user_tz": 0
    },
    "id": "uOP6Rvluethe",
    "outputId": "be3146f6-1aae-405b-e0a7-8cd7560b8320"
   },
   "outputs": [
    {
     "name": "stdout",
     "output_type": "stream",
     "text": [
      "Colab: mounting Google drive on  /content/gdrive\n",
      "Mounted at /content/gdrive\n",
      "\n",
      "Colab: making sure  /content/gdrive/My Drive/Colab Notebooks/  exists.\n",
      "\n",
      "Colab: Changing directory to  /content/gdrive/My Drive/Colab Notebooks/\n",
      "/content/gdrive/My Drive/Colab Notebooks\n",
      "fatal: destination path 'please_label_my_images' already exists and is not an empty directory.\n"
     ]
    }
   ],
   "source": [
    "# Mount the Google Drive at mount\n",
    "from google.colab import drive\n",
    "mount='/content/gdrive'\n",
    "print(\"Colab: mounting Google drive on \", mount)\n",
    "\n",
    "drive.mount(mount)\n",
    "\n",
    "# Switch to the directory on the Google Drive that you want to use\n",
    "import os\n",
    "from os import path\n",
    "\n",
    "drive_root = mount + \"/My Drive/Colab Notebooks/\"\n",
    "\n",
    "# Create drive_root if it doesn't exist\n",
    "print(\"\\nColab: making sure \", drive_root, \" exists.\")\n",
    "os.makedirs(drive_root, exist_ok=True)\n",
    "\n",
    "# Change to the directories to get data files\n",
    "print(\"\\nColab: Changing directory to \", drive_root)\n",
    "%cd $drive_root\n",
    "! git clone https://github.com/ezriri/please_label_my_images\n"
   ]
  },
  {
   "cell_type": "code",
   "execution_count": null,
   "metadata": {
    "id": "aZUJBPrWfOdY"
   },
   "outputs": [],
   "source": []
  }
 ],
 "metadata": {
  "colab": {
   "authorship_tag": "ABX9TyP9mif8l3oCW9WVO/t9jlWO",
   "mount_file_id": "1gNBa5vtsAu-mUgI-aU5PGMGqsij5XtgT",
   "provenance": []
  },
  "kernelspec": {
   "display_name": "Python 3 + Jaspy",
   "language": "python",
   "name": "jaspy"
  },
  "language_info": {
   "codemirror_mode": {
    "name": "ipython",
    "version": 3
   },
   "file_extension": ".py",
   "mimetype": "text/x-python",
   "name": "python",
   "nbconvert_exporter": "python",
   "pygments_lexer": "ipython3",
   "version": "3.11.9"
  }
 },
 "nbformat": 4,
 "nbformat_minor": 4
}
