{
 "cells": [
  {
   "cell_type": "markdown",
   "id": "1e91ebdc-867e-4eff-8041-ed33a7eeca9c",
   "metadata": {},
   "source": [
    "# supervisor image labelling code\n",
    "Hello lovely supervisors, thank you for doing this second labelling of images for me!\n",
    "<br>\n",
    "Hopefully this works well, as is using google colab. Thanks for letting me take up space in your google drive\n",
    "<br>\n",
    "you should be able to just start labelling, you can stop at any time, but will need to run the code from the beginning to start labelling again.\n",
    "<br>\n",
    "### how does this code work?\n",
    "In your respective files will be ..._labelling_0.csv, containing the inital list of images. Just put your name in below, and it will know the most up to date version of the csv you have(n't) labelled.\n",
    "<br>\n",
    "In the labelling cell, an image should appear with input box, in which you write the label. Unfortunately I am not skilled enough to make a back / forward button, so you will have one go at labelling the image (or email me).\n",
    "#### once finished labelling\n",
    "..._labelling_<>.csv with the largest number is the final csv I need. \n",
    "<Br>\n",
    "Probably easiest just to email to me."
   ]
  },
  {
   "cell_type": "code",
   "execution_count": 34,
   "id": "d5cca462-16c9-4293-a7b5-380e8b25b6cb",
   "metadata": {},
   "outputs": [],
   "source": [
    "import numpy as np\n",
    "import pandas as pd\n",
    "import os\n",
    "from glob import glob\n",
    "import csv\n",
    "import matplotlib.pyplot as plt\n",
    "from IPython.display import clear_output\n",
    "import shutil\n",
    "from PIL import Image"
   ]
  },
  {
   "cell_type": "code",
   "execution_count": 29,
   "id": "f00503db-a9ca-49ac-9fb8-c20affe83846",
   "metadata": {},
   "outputs": [],
   "source": [
    "## please enter your name ! \n",
    "supervisor_name = 'Alan' #'Alan' 'Declan' 'Paul' \n"
   ]
  },
  {
   "cell_type": "code",
   "execution_count": 40,
   "id": "2f61af8f-1e67-4803-b7a7-d67a09d090f8",
   "metadata": {},
   "outputs": [
    {
     "name": "stdout",
     "output_type": "stream",
     "text": [
      "./alan_sample/alan_labelling_0.csv\n",
      "!! PLEASE CHECK THIS INFO !!\n",
      "(they should have different names)\n",
      "csv reading in: ./alan_sample/alan_labelling_0.csv\n",
      "csv saving to: ./alan_sample/alan_labelling_1.csv\n",
      "number of images already labelled 0\n",
      "! ! ! ! ! ! ! ! ! ! ! ! ! ! ! ! ! ! \n"
     ]
    }
   ],
   "source": [
    "if supervisor_name == 'Alan':\n",
    "    path = './alan_sample/'\n",
    "    image_file = 'alan_sample_images'\n",
    "elif supervisor_name == 'Declan':\n",
    "    path = './dec_sample/'\n",
    "    image_file = 'dec_sample_images'  \n",
    "else:\n",
    "    path = './paul_sample/'\n",
    "    image_file = 'paul_sample_images'\n",
    "    \n",
    "## csv handelling\n",
    "all_csvs = glob(path+'*.csv')\n",
    "#split_paths = [path.split('_') for path in all_csvs]\n",
    "try: \n",
    "  supervisor_csv_str = all_csvs[0]\n",
    "except IndexError:\n",
    "  supervisor_csv_str = all_csvs\n",
    "\n",
    "print(supervisor_csv_str)\n",
    "#supervisor_csv_str = all_csvs[0]\n",
    "base_csv_name = supervisor_csv_str[:-5]\n",
    "number_csvs = len(all_csvs)\n",
    "csv_full_path = f'{base_csv_name}{int(number_csvs)-1}.csv'\n",
    "full_save_csv_path = f'{base_csv_name}{number_csvs}.csv'\n",
    "csv_read_pd = pd.read_csv(csv_full_path)\n",
    "\n",
    "n_images_done = csv_read_pd['number_label'].count()\n",
    "\n",
    "#number_csvs\n",
    "\n",
    "## image folder handelling\n",
    "# check if folder for image labelling has been unzipped\n",
    "folder_path = path+image_file+'/'\n",
    "if not os.path.exists(folder_path):\n",
    "    # it has not been unzipped, will do that now\n",
    "    shutil.unpack_archive(path+image_file+'.zip', path+image_file)\n",
    "    print(f'unzipped {image_file} sucessfully!')\n",
    "\n",
    "\n",
    "## stuff to print\n",
    "print('!! PLEASE CHECK THIS INFO !!')\n",
    "print('(they should have different names)')\n",
    "print(f'csv reading in: {csv_full_path}')\n",
    "print(f'csv saving to: {full_save_csv_path}')\n",
    "print(f'number of images already labelled {n_images_done}')\n",
    "print('! ! ! ! ! ! ! ! ! ! ! ! ! ! ! ! ! ! ')\n"
   ]
  },
  {
   "cell_type": "markdown",
   "id": "291f452a-79a3-4f38-a654-7b328f6e9cb2",
   "metadata": {},
   "source": [
    "# label things"
   ]
  },
  {
   "cell_type": "code",
   "execution_count": 37,
   "id": "5c851a1c-731a-4273-9d8c-ceacbbc7c823",
   "metadata": {},
   "outputs": [
    {
     "name": "stdout",
     "output_type": "stream",
     "text": [
      "858091_20ch0\n"
     ]
    },
    {
     "data": {
      "image/png": "[encoded data removed]",
      "text/plain": [
       "<Figure size 800x800 with 1 Axes>"
      ]
     },
     "metadata": {},
     "output_type": "display_data"
    },
    {
     "name": "stdin",
     "output_type": "stream",
     "text": [
      "Enter a label (0-9 or 11, or 'stop' to quit):  stop\n"
     ]
    },
    {
     "name": "stdout",
     "output_type": "stream",
     "text": [
      "Stopped labeling.\n",
      "./alan_sample/alan_labelling_4.csv saved!\n"
     ]
    },
    {
     "ename": "SystemExit",
     "evalue": "",
     "output_type": "error",
     "traceback": [
      "An exception has occurred, use %tb to see the full traceback.\n",
      "\u001b[0;31mSystemExit\u001b[0m\n"
     ]
    },
    {
     "name": "stderr",
     "output_type": "stream",
     "text": [
      "/opt/jaspy/lib/python3.11/site-packages/IPython/core/interactiveshell.py:3585: UserWarning: To exit: use 'exit', 'quit', or Ctrl-D.\n",
      "  warn(\"To exit: use 'exit', 'quit', or Ctrl-D.\", stacklevel=1)\n"
     ]
    }
   ],
   "source": [
    "### function to ensure all images are captured + save the new csv\n",
    "def saving_function(new_images, new_labels, og_df_name_list):\n",
    "    if len(new_images) < len(og_df_name_list):\n",
    "        not_labelled = list(set(og_df_name_list) - set(new_images))\n",
    "        new_images.extend(not_labelled)  # Modifies the list in place\n",
    "        new_labels.extend([np.nan] * len(not_labelled))\n",
    "\n",
    "    new_csv_dic = {'image_name': new_images, 'number_label':new_labels}\n",
    "    df = pd.DataFrame(new_csv_dic)\n",
    "    df.to_csv(full_save_csv_path, index=False)\n",
    "    print(f'{csv_full_path} saved!')\n",
    "    return df\n",
    "\n",
    "# some things need to be defined before starting the processing loop\n",
    "image_name_lst = []\n",
    "new_image_label_lst = []\n",
    "all_image_names = list(csv_read_pd['image_name'])\n",
    "\n",
    "with open(csv_full_path, mode='r') as file:\n",
    "    csv_reader = csv.reader(file)\n",
    "    header = next(csv_reader)  # Read the header row\n",
    "    # loop through each row\n",
    "    for row in csv_reader:\n",
    "        image_name = row[0]\n",
    "        label = row[1]        \n",
    "        \n",
    "        # label returns false for nan, so will just write names / labels aleady there\n",
    "        if label: \n",
    "            #num = int(label) # convert to number (corresponding to label)\n",
    "            image_name_lst.append(image_name)\n",
    "            new_image_label_lst.append(label)\n",
    "                \n",
    "        ## if is a nan, will follow this loop for labelling\n",
    "        else:\n",
    "            print(image_name)\n",
    "            im = Image.open(os.path.join(folder_path, image_name + '.png'))\n",
    "            plt.figure(figsize=(8, 8))\n",
    "            plt.imshow(im)\n",
    "            plt.axis('off')\n",
    "            plt.show()\n",
    "            while True: # loop will continue until a valid entry is passed\n",
    "                inp = input(\"Enter a label (0-9 or 11, or 'stop' to quit): \") ## label of image\n",
    "\n",
    "                ## if write 'stop' will stop labelling + save what has been done\n",
    "                if inp.lower() == 'stop':\n",
    "                    print(\"Stopped labeling.\")\n",
    "                    done_images = saving_function(image_name_lst,new_image_label_lst,all_image_names)\n",
    "                    raise SystemExit  # Exit gracefully\n",
    "                \n",
    "                try:\n",
    "                    num = int(inp) # convert to number (corresponding to label)\n",
    "                    if 0 <= num <= 11:  # Check if the number is in the valid range\n",
    "                        clear_output(wait=True) # get rid of image once you've labelled it\n",
    "                        image_name_lst.append(image_name)\n",
    "                        new_image_label_lst.append(num)\n",
    "                        break  # Exit the loop if the input is valid\n",
    "                    else:\n",
    "                        print(\"Error: Label must be between 0 and 11.\")\n",
    "                except ValueError: # if we don't input a number -> stop labelling, so will break\n",
    "                    print(\"not words, what are you doing???\")\n",
    "                    \n",
    "                    \n",
    "done_images = saving_function(image_name_lst,new_image_label_lst,all_image_names)"
   ]
  },
  {
   "cell_type": "code",
   "execution_count": null,
   "id": "0b65bc4d-100e-4963-9759-988604adb4f4",
   "metadata": {},
   "outputs": [],
   "source": []
  }
 ],
 "metadata": {
  "kernelspec": {
   "display_name": "Python 3 + Jaspy",
   "language": "python",
   "name": "jaspy"
  },
  "language_info": {
   "codemirror_mode": {
    "name": "ipython",
    "version": 3
   },
   "file_extension": ".py",
   "mimetype": "text/x-python",
   "name": "python",
   "nbconvert_exporter": "python",
   "pygments_lexer": "ipython3",
   "version": "3.11.9"
  }
 },
 "nbformat": 4,
 "nbformat_minor": 5
}
