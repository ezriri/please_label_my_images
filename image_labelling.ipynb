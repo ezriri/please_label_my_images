{
 "cells": [
  {
   "cell_type": "markdown",
   "id": "1e91ebdc-867e-4eff-8041-ed33a7eeca9c",
   "metadata": {},
   "source": [
    "# image labelling code\n",
    "developing code for automatic / quick image labelling\n",
    "\n",
    "\n",
    "i have discovered using the terminal is a nightmare to do labelling, so i will copy someone else who has already made a program to label in jupyter notebook."
   ]
  },
  {
   "cell_type": "code",
   "execution_count": 1,
   "id": "d5cca462-16c9-4293-a7b5-380e8b25b6cb",
   "metadata": {},
   "outputs": [],
   "source": [
    "import numpy as np\n",
    "import pandas as pd\n",
    "import os\n",
    "from PIL import Image\n",
    "from glob import glob\n",
    "import csv\n",
    "import matplotlib.pyplot as plt\n",
    "from IPython.display import clear_output\n",
    "import math\n",
    "import shutil"
   ]
  },
  {
   "cell_type": "code",
   "execution_count": 2,
   "id": "2f61af8f-1e67-4803-b7a7-d67a09d090f8",
   "metadata": {},
   "outputs": [
    {
     "name": "stdout",
     "output_type": "stream",
     "text": [
      "reading /gws/nopw/j04/dcmex/users/ezriab/image_labelling/combined/2ds_5000_100125/2ds_5000_100125.csv\n",
      "saving to /gws/nopw/j04/dcmex/users/ezriab/image_labelling/combined/2ds_5000_100125/2ds_5000_100125_test.csv\n",
      "number of images already labelled: 0\n"
     ]
    },
    {
     "data": {
      "text/html": [
       "<div>\n",
       "<style scoped>\n",
       "    .dataframe tbody tr th:only-of-type {\n",
       "        vertical-align: middle;\n",
       "    }\n",
       "\n",
       "    .dataframe tbody tr th {\n",
       "        vertical-align: top;\n",
       "    }\n",
       "\n",
       "    .dataframe thead th {\n",
       "        text-align: right;\n",
       "    }\n",
       "</style>\n",
       "<table border=\"1\" class=\"dataframe\">\n",
       "  <thead>\n",
       "    <tr style=\"text-align: right;\">\n",
       "      <th></th>\n",
       "      <th>image_name</th>\n",
       "      <th>number_label</th>\n",
       "    </tr>\n",
       "  </thead>\n",
       "  <tbody>\n",
       "    <tr>\n",
       "      <th>0</th>\n",
       "      <td>688501_25ch1</td>\n",
       "      <td>NaN</td>\n",
       "    </tr>\n",
       "    <tr>\n",
       "      <th>1</th>\n",
       "      <td>796774_20ch0</td>\n",
       "      <td>NaN</td>\n",
       "    </tr>\n",
       "    <tr>\n",
       "      <th>2</th>\n",
       "      <td>611166_19ch0</td>\n",
       "      <td>NaN</td>\n",
       "    </tr>\n",
       "    <tr>\n",
       "      <th>3</th>\n",
       "      <td>806433_30ch1</td>\n",
       "      <td>NaN</td>\n",
       "    </tr>\n",
       "    <tr>\n",
       "      <th>4</th>\n",
       "      <td>1378901_25ch0</td>\n",
       "      <td>NaN</td>\n",
       "    </tr>\n",
       "  </tbody>\n",
       "</table>\n",
       "</div>"
      ],
      "text/plain": [
       "      image_name  number_label\n",
       "0   688501_25ch1           NaN\n",
       "1   796774_20ch0           NaN\n",
       "2   611166_19ch0           NaN\n",
       "3   806433_30ch1           NaN\n",
       "4  1378901_25ch0           NaN"
      ]
     },
     "execution_count": 2,
     "metadata": {},
     "output_type": "execute_result"
    }
   ],
   "source": [
    "## directory of set of images i would like to label + corresponding csv to populate\n",
    "#folder_path = '/gws/nopw/j04/dcmex/users/ezriab/image_labelling/2ds_5000_100125/'\n",
    "folder_path = '/gws/nopw/j04/dcmex/users/ezriab/image_labelling/combined/2ds_5000_100125/'\n",
    "#test_path = '/gws/nopw/j04/dcmex/users/ezriab/image_labelling/'\n",
    "# open csv quickly to check it is correct + in the format we expect\n",
    "csv_file_name = '2ds_5000_100125.csv'\n",
    "saving_csv_name = '2ds_5000_100125_test.csv'\n",
    "csv_full_path = os.path.join(folder_path,csv_file_name)\n",
    "csv_read_pd = pd.read_csv(csv_full_path)\n",
    "print(f'reading {csv_full_path}')\n",
    "print(f'saving to {folder_path+saving_csv_name}')\n",
    "n_images_done = csv_read_pd['number_label'].count()\n",
    "print(f'number of images already labelled: {n_images_done}')\n",
    "csv_read_pd.head()"
   ]
  },
  {
   "cell_type": "markdown",
   "id": "291f452a-79a3-4f38-a654-7b328f6e9cb2",
   "metadata": {},
   "source": [
    "# label things"
   ]
  },
  {
   "cell_type": "code",
   "execution_count": null,
   "id": "5c851a1c-731a-4273-9d8c-ceacbbc7c823",
   "metadata": {},
   "outputs": [
    {
     "name": "stdout",
     "output_type": "stream",
     "text": [
      "796774_20ch0\n"
     ]
    },
    {
     "data": {
      "image/png": "[encoded data removed]",
      "text/plain": [
       "<Figure size 800x800 with 1 Axes>"
      ]
     },
     "metadata": {},
     "output_type": "display_data"
    }
   ],
   "source": [
    "### function to ensure all images are captured + save the new csv\n",
    "\n",
    "def saving_function(new_images, new_labels, og_df_name_list):\n",
    "    if len(new_images) < len(og_df_name_list):\n",
    "        not_labelled = list(set(og_df_name_list) - set(new_images))\n",
    "        new_images.extend(not_labelled)  # Modifies the list in place\n",
    "        new_labels.extend([np.nan] * len(not_labelled))\n",
    "\n",
    "    new_csv_dic = {'image_name': new_images, 'number_label':new_labels}\n",
    "    df = pd.DataFrame(new_csv_dic)\n",
    "    df.to_csv(full_save_csv_path, index=False)\n",
    "    print(f'{saving_csv_name} saved!')\n",
    "    return df\n",
    "\n",
    "# some things need to be defined before starting the processing loop\n",
    "image_name_lst = []\n",
    "new_image_label_lst = []\n",
    "all_image_names = list(csv_read_pd['image_name'])\n",
    "full_save_csv_path = os.path.join(folder_path,saving_csv_name)\n",
    "\n",
    "\n",
    "with open(csv_full_path, mode='r') as file:\n",
    "    csv_reader = csv.reader(file)\n",
    "    header = next(csv_reader)  # Read the header row\n",
    "    # loop through each row\n",
    "    for row in csv_reader:\n",
    "        image_name = row[0]\n",
    "        label = row[1]        \n",
    "        \n",
    "        # label returns false for nan, so will just write names / labels aleady there\n",
    "        if label: \n",
    "            #num = int(label) # convert to number (corresponding to label)\n",
    "            image_name_lst.append(image_name)\n",
    "            new_image_label_lst.append(label)\n",
    "                \n",
    "        ## if is a nan, will follow this loop for labelling\n",
    "        else:\n",
    "            print(image_name)\n",
    "            im = Image.open(os.path.join(folder_path, image_name + '.png'))\n",
    "            plt.figure(figsize=(8, 8))\n",
    "            plt.imshow(im)\n",
    "            plt.axis('off')\n",
    "            plt.show()\n",
    "            while True: # loop will continue until a valid entry is passed\n",
    "                inp = input(\"Enter a label (0-9 or 11, or 'stop' to quit): \") ## label of image\n",
    "\n",
    "                ## if write 'stop' will stop labelling + save what has been done\n",
    "                if inp.lower() == 'stop':\n",
    "                    print(\"Stopped labeling.\")\n",
    "                    done_images = saving_function(image_name_lst,new_image_label_lst,all_image_names)\n",
    "                    raise SystemExit  # Exit gracefully\n",
    "                \n",
    "                try:\n",
    "                    num = int(inp) # convert to number (corresponding to label)\n",
    "                    if 0 <= num <= 11:  # Check if the number is in the valid range\n",
    "                        clear_output(wait=True) # get rid of image once you've labelled it\n",
    "                        image_name_lst.append(image_name)\n",
    "                        new_image_label_lst.append(num)\n",
    "                        break  # Exit the loop if the input is valid\n",
    "                    else:\n",
    "                        print(\"Error: Label must be between 0 and 11.\")\n",
    "                except ValueError: # if we don't input a number -> stop labelling, so will break\n",
    "                    print(\"not words, what are you doing???\")\n",
    "                    \n",
    "                    \n",
    "done_images = saving_function(image_name_lst,new_image_label_lst,all_image_names)"
   ]
  },
  {
   "cell_type": "markdown",
   "id": "7771238d-9be6-4649-aad8-f6cdfe12f8c6",
   "metadata": {},
   "source": [
    "## hide extra stuff"
   ]
  },
  {
   "cell_type": "code",
   "execution_count": 5,
   "id": "8f2fec95-e0d9-4d78-a8bf-cfcfabb8e797",
   "metadata": {},
   "outputs": [
    {
     "data": {
      "text/plain": [
       "5000"
      ]
     },
     "execution_count": 5,
     "metadata": {},
     "output_type": "execute_result"
    }
   ],
   "source": [
    "done_images['number_label'].count()\n",
    "#df.to_csv(csv_file_list[0], index=False) "
   ]
  },
  {
   "cell_type": "code",
   "execution_count": 6,
   "id": "abd80c9a-6b0c-4e92-b811-19d3f6f34755",
   "metadata": {},
   "outputs": [
    {
     "data": {
      "text/plain": [
       "5000"
      ]
     },
     "execution_count": 6,
     "metadata": {},
     "output_type": "execute_result"
    }
   ],
   "source": [
    "#folder_path = '/gws/nopw/j04/dcmex/users/ezriab/image_labelling/2ds_3000_030125/'\n",
    "#an_path = os.path.join(folder_path,'2ds_3000_030125_1st.csv')\n",
    "quick_check_csv = pd.read_csv(folder_path+saving_csv_name)\n",
    "quick_check_csv['number_label'].count()"
   ]
  },
  {
   "cell_type": "code",
   "execution_count": 20,
   "id": "ab9f88e7-5bfa-4ce3-a1bb-856ac1c364a2",
   "metadata": {
    "collapsed": true,
    "jupyter": {
     "outputs_hidden": true
    }
   },
   "outputs": [
    {
     "data": {
      "text/plain": [
       "1329"
      ]
     },
     "execution_count": 20,
     "metadata": {},
     "output_type": "execute_result"
    }
   ],
   "source": [
    "quick_check_csv['number_label'].count()"
   ]
  },
  {
   "cell_type": "code",
   "execution_count": 7,
   "id": "33386025-0b12-44f7-833a-762d359ad903",
   "metadata": {},
   "outputs": [
    {
     "data": {
      "text/plain": [
       "'/home/users/esree/CNN_basics/save_progress/2ds_5000_100125_7th.csv'"
      ]
     },
     "execution_count": 7,
     "metadata": {},
     "output_type": "execute_result"
    }
   ],
   "source": [
    "## copy newly labelled csv to github too\n",
    "git_path = '/home/users/esree/CNN_basics/save_progress/'\n",
    "shutil.copy(full_save_csv_path, git_path)"
   ]
  },
  {
   "cell_type": "code",
   "execution_count": null,
   "id": "3dfbc05b-b06e-411f-bd38-98a2a50a3c7d",
   "metadata": {},
   "outputs": [],
   "source": [
    "data = {\n",
    "    'A': [10, 20, 20, 40, 20, 23, 20, 86, 20],\n",
    "    'B': [5,  10, np.nan, 33, 25, 20, np.nan, 33, np.nan]\n",
    "}\n",
    "a_df = pd.DataFrame(data)\n",
    "\n",
    "some_idx = a_df.index[a_df['A']== 20].tolist()\n",
    "\n",
    "for i in range(len(some_idx)):\n",
    "    idx = some_idx[i]\n",
    "    row = a_df.loc[idx]\n",
    "    image_name = row.iloc[0]\n",
    "    og_label = row.iloc[1]\n",
    "    \n",
    "    if not pd.isna(og_label):\n",
    "        continue\n",
    "    \n",
    "    #else:\n",
    "    while True:\n",
    "        print(idx)\n",
    "        #while True:\n",
    "        inp = input(\"Enter a label (0-9 or 11, or 'stop' to quit): \")\n",
    "        if inp.lower() == 'stop':\n",
    "            print(\"Stopped labeling.\")\n",
    "            #break \n",
    "            raise SystemExit  # Exit the entire program gracefully ## stop labelling for now\n",
    "            \n",
    "        try:\n",
    "            num = int(inp) # convert to number (corresponding to label)\n",
    "            if 0 <= num <= 11:  # Check if the number is in the valid range\n",
    "                clear_output(wait=True) # get rid of image once you've labelled it\n",
    "                ## as working in a df, we over-write the correct cell\n",
    "                a_df.loc[idx, 'B'] = num\n",
    "                break\n",
    "            else:\n",
    "                print(\"Error: Label must be between 0 and 11.\")\n",
    "        except ValueError: # if we don't input a number -> stop labelling, so will break\n",
    "            print(\"not words, what are you doing???\")\n",
    "\n",
    "\n"
   ]
  }
 ],
 "metadata": {
  "kernelspec": {
   "display_name": "Python 3 + Jaspy",
   "language": "python",
   "name": "jaspy"
  },
  "language_info": {
   "codemirror_mode": {
    "name": "ipython",
    "version": 3
   },
   "file_extension": ".py",
   "mimetype": "text/x-python",
   "name": "python",
   "nbconvert_exporter": "python",
   "pygments_lexer": "ipython3",
   "version": "3.11.9"
  }
 },
 "nbformat": 4,
 "nbformat_minor": 5
}
